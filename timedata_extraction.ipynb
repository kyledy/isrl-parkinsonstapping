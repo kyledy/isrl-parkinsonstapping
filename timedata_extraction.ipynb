{
 "cells": [
  {
   "cell_type": "code",
   "execution_count": 1,
   "id": "720fb7a3-ec34-40ab-879a-09a9865aaca9",
   "metadata": {},
   "outputs": [],
   "source": [
    "# Adapted from Parselmouth documentation at https://github.com/YannickJadoul/Parselmouth\n",
    "import parselmouth\n",
    "import praatio\n",
    "\n",
    "import pandas as pd\n",
    "import numpy as np\n",
    "import os\n",
    "import librosa\n",
    "import glob\n",
    "\n",
    "from extract_features_utils import clip_audio, get_jitter, get_shimmer, get_harmonic_to_noise_ratio, get_f0, get_formants\n",
    "from pydub import AudioSegment"
   ]
  },
  {
   "cell_type": "markdown",
   "id": "18962453-ab97-4412-864b-5e3187c59981",
   "metadata": {},
   "source": [
    "## File paths"
   ]
  },
  {
   "cell_type": "code",
   "execution_count": 2,
   "id": "0c8a643a-26a7-440a-8cbf-0db00ec10fbe",
   "metadata": {},
   "outputs": [],
   "source": [
    "POSITIVE_FOLDER_PATH = \"sample_audio_files/positive\"\n",
    "NEGATIVE_FOLDER_PATH = \"sample_audio_files/negative\"\n",
    "CSV_FILES_PATH = \"csv_files/\"\n",
    "TIME_DATA_PATH = CSV_FILES_PATH + \"time_data/\"\n",
    "\n",
    "os.makedirs(POSITIVE_FOLDER_PATH, exist_ok=True)\n",
    "os.makedirs(NEGATIVE_FOLDER_PATH, exist_ok=True)\n",
    "os.makedirs(CSV_FILES_PATH, exist_ok=True)"
   ]
  },
  {
   "cell_type": "markdown",
   "id": "79b5448d-1718-441f-992c-2c9b4a6832cd",
   "metadata": {},
   "source": [
    "## Helper functions"
   ]
  },
  {
   "cell_type": "code",
   "execution_count": 9,
   "id": "df297edc-60aa-4b00-b65d-ae570c9d15e4",
   "metadata": {},
   "outputs": [],
   "source": [
    "# Create mapping DataFrame between audio files and healthCodes\n",
    "def create_wav_dataframe(folder_path):\n",
    "    data = []\n",
    "    for filename in os.listdir(folder_path):\n",
    "        if filename.endswith(\".wav\"):\n",
    "            health_code = os.path.splitext(filename)[0]\n",
    "            full_path = os.path.join(folder_path, filename)\n",
    "            data.append({\"healthCode\": health_code, \"wav_path\": full_path})\n",
    "    \n",
    "    return pd.DataFrame(data)\n",
    "\n",
    "# Tweaked slightly to return dataframe (s) that contain temporal data\n",
    "# Extract formant values from folder containing .wav files\n",
    "def get_formants_over_time(folder_path, df, output_path):\n",
    "    wav_files = glob.glob(os.path.join(folder_path, \"*.wav\"))\n",
    "\n",
    "    for wav in wav_files:\n",
    "        try:\n",
    "            # Match .wav file to its current row in the DataFrame\n",
    "            row = df.loc[df[\"wav_path\"] == wav]\n",
    "            if row.empty:\n",
    "                print(f\"No metadata found for: {wav}\")\n",
    "                continue\n",
    "\n",
    "            # Get gender data from .wav file for data extraction\n",
    "            health_code = row[\"healthCode\"].values[0]\n",
    "            gender_str = row[\"gender\"].values[0].lower() if \"gender\" in row and pd.notna(row[\"gender\"].values[0]) else \"unknown\"\n",
    "            gender_flag = 1 if gender_str == \"female\" else 0\n",
    "            max_formant = 5500 if gender_flag == 1 else 5000\n",
    "            \n",
    "            # Load and trim audio\n",
    "            audio, sr = librosa.load(wav, sr=None)\n",
    "            trimmed_audio, idx = clip_audio(audio)\n",
    "            sound = parselmouth.Sound(trimmed_audio, sampling_frequency = sr)\n",
    "\n",
    "            # Get F0 over time \n",
    "            pitch = sound.to_pitch()\n",
    "            f0_times = [pitch.get_time_from_frame_number(i) for i in range(1, pitch.get_number_of_frames() + 1)]\n",
    "            f0_values = [pitch.get_value_in_frame(i) for i in range(1, pitch.get_number_of_frames() + 1)]\n",
    "            \n",
    "            # Get formants over time \n",
    "            # Adjust time steps below for more frames!\n",
    "            time_step = 0.01 \n",
    "            formants = sound.to_formant_burg(time_step, 5, max_formant, 0.025, 50)\n",
    "            f1, f2, f3 = [], [], []\n",
    "            for t in f0_times:\n",
    "                f1.append(formants.get_value_at_time(1, t))  # F1\n",
    "                f2.append(formants.get_value_at_time(2, t))  # F2\n",
    "                f3.append(formants.get_value_at_time(3, t))  # F3\n",
    "\n",
    "            time_df = pd.DataFrame({\n",
    "                    \"time\": f0_times,\n",
    "                    \"F0\": f0_values,\n",
    "                    \"F1\": f1,\n",
    "                    \"F2\": f2,\n",
    "                    \"F3\": f3\n",
    "            })\n",
    "\n",
    "            out_file = os.path.join(output_path, f\"{health_code}.csv\")\n",
    "            time_df.to_csv(out_file, index=False)\n",
    "            print(f\"Saved: {out_file}\")\n",
    "\n",
    "        except Exception as e:\n",
    "            print(f\"Error processing {wav}: {e}\")\n",
    "            continue"
   ]
  },
  {
   "cell_type": "code",
   "execution_count": 4,
   "id": "e12e9f37-6f02-4d6d-9aa7-b6aac03fd896",
   "metadata": {},
   "outputs": [],
   "source": [
    "positive_samples = create_wav_dataframe(POSITIVE_FOLDER_PATH)\n",
    "negative_samples = create_wav_dataframe(NEGATIVE_FOLDER_PATH)"
   ]
  },
  {
   "cell_type": "code",
   "execution_count": 5,
   "id": "dd3f4391-924d-40df-8f55-71e8dddfc9d2",
   "metadata": {},
   "outputs": [],
   "source": [
    "data = pd.read_csv(CSV_FILES_PATH + \"misc/data.csv\")\n",
    "data = data.drop_duplicates(subset=\"healthCode\", keep=\"first\")"
   ]
  },
  {
   "cell_type": "code",
   "execution_count": 6,
   "id": "98f54c30-7ff6-480c-bb57-ed963363c74c",
   "metadata": {},
   "outputs": [],
   "source": [
    "# Sanity check that all samples are in the dataset\n",
    "assert positive_samples[\"healthCode\"].isin(data[\"healthCode\"]).all(), \"Not all healthCodes are present in data\"\n",
    "assert negative_samples[\"healthCode\"].isin(data[\"healthCode\"]).all(), \"Not all healthCodes are present in data\""
   ]
  },
  {
   "cell_type": "code",
   "execution_count": 7,
   "id": "5258a037-921a-44b0-96ae-ea98afb506fc",
   "metadata": {},
   "outputs": [],
   "source": [
    "# Merge sample data with survey data to match .wav file paths\n",
    "df_positive = pd.merge(data, positive_samples, on=\"healthCode\", how=\"inner\")\n",
    "df_negative = pd.merge(data, negative_samples, on=\"healthCode\", how=\"inner\")"
   ]
  },
  {
   "cell_type": "code",
   "execution_count": 10,
   "id": "1cc2d3cc-0d66-41ad-b04c-edf6f3e71d07",
   "metadata": {},
   "outputs": [
    {
     "name": "stdout",
     "output_type": "stream",
     "text": [
      "Saved: csv_files/time_data/43294479-32e0-4589-92ee-269b36a70e46.csv\n",
      "Saved: csv_files/time_data/95fe2bb0-4886-4042-b63f-a93c1635d874.csv\n",
      "Saved: csv_files/time_data/8a4790b3-3bf5-4273-b695-fe703347d399.csv\n",
      "Saved: csv_files/time_data/ef026044-8bf1-4720-be95-e823c7a6e1df.csv\n",
      "Saved: csv_files/time_data/ea66cb62-1e80-4a09-a98d-e589925c957c.csv\n",
      "Saved: csv_files/time_data/1a38dca5-145a-413b-86cd-86fa9f6802ff.csv\n",
      "Saved: csv_files/time_data/0b897bc9-4449-4fe8-8b91-58337ee1cb37.csv\n",
      "Saved: csv_files/time_data/284ec98c-a194-4265-8525-75e4297deaea.csv\n",
      "Saved: csv_files/time_data/c32c4258-4645-43a9-a423-605aeb904519.csv\n",
      "Saved: csv_files/time_data/3e3dab8f-87e1-42c8-a091-9202fb089a03.csv\n",
      "Saved: csv_files/time_data/d0ae0ee1-165b-4e5a-9caa-ad8a17688445.csv\n",
      "Saved: csv_files/time_data/b4bb8c67-33ac-4333-b1aa-6b79babc40fc.csv\n",
      "Saved: csv_files/time_data/205b0b4f-e990-49d7-b47e-9e2c2585a1bc.csv\n",
      "Saved: csv_files/time_data/6134a5c5-2912-4cb0-87aa-10dee483b686.csv\n",
      "Saved: csv_files/time_data/c03f7785-d690-400f-b558-a27380341d53.csv\n",
      "Saved: csv_files/time_data/0b95e050-a6d1-433c-80d6-1573a9457da0.csv\n",
      "Saved: csv_files/time_data/0c4c65a7-1076-478f-b07b-e88dc4d8a880.csv\n",
      "Saved: csv_files/time_data/71785e8e-1b41-47af-b88a-2e0733e14e2b.csv\n",
      "Saved: csv_files/time_data/d57b53b1-c34d-42e2-8756-40e0cdf5d87d.csv\n",
      "Saved: csv_files/time_data/7bc86881-7075-467a-850e-53e021b60f9f.csv\n",
      "Saved: csv_files/time_data/cd07f135-bfc7-4bf5-86f9-d4eacd78aa56.csv\n",
      "Saved: csv_files/time_data/925e8166-6d62-42f6-abb7-dfa7f0459786.csv\n",
      "Saved: csv_files/time_data/776122cd-333b-400a-af9d-39771b26fa4d.csv\n",
      "Saved: csv_files/time_data/325f3e23-408e-47bf-b8d1-6a9bcbfeec97.csv\n",
      "Saved: csv_files/time_data/c9fe2198-6dd6-4f22-9b03-4be3f4343864.csv\n",
      "Saved: csv_files/time_data/ac1d66d8-2fcc-4c1c-9c4b-c0ad05c50dee.csv\n",
      "Saved: csv_files/time_data/600c1d03-2840-4818-a707-3e831ba6bf4a.csv\n",
      "Saved: csv_files/time_data/51faeedb-bc76-4fe8-9d6e-5bf43b484a94.csv\n",
      "Saved: csv_files/time_data/e4793747-dfca-4690-bfac-0fca86f40837.csv\n",
      "Saved: csv_files/time_data/dc22f6d0-4f10-41f5-8ffb-7bd9725805e2.csv\n"
     ]
    }
   ],
   "source": [
    "# get_formants_over_time(POSITIVE_FOLDER_PATH, df_positive, TIME_DATA_PATH + \"positive/\")"
   ]
  },
  {
   "cell_type": "code",
   "execution_count": 13,
   "id": "afb0b04c-a200-49b7-9822-76ffc60b5691",
   "metadata": {},
   "outputs": [
    {
     "name": "stdout",
     "output_type": "stream",
     "text": [
      "Saved: csv_files/time_data/negative/ccad1533-2453-4507-9ba0-aaf95d00f7b9.csv\n",
      "Saved: csv_files/time_data/negative/45373776-ea31-488b-87f3-5765b9cc6410.csv\n",
      "Saved: csv_files/time_data/negative/987f7656-13bc-4b5f-9f45-ce799fbf9aa5.csv\n",
      "Saved: csv_files/time_data/negative/80398a1f-9dea-4ab4-90a6-49508a73ad63.csv\n",
      "Saved: csv_files/time_data/negative/41bea500-2d4c-474a-aa57-de9629386feb.csv\n",
      "Saved: csv_files/time_data/negative/a0519a95-7aff-4e13-81a6-a629c81e329d.csv\n",
      "Saved: csv_files/time_data/negative/cea9168b-0db2-4921-bb1c-ef2d00006445.csv\n",
      "Saved: csv_files/time_data/negative/d392b5fb-2c96-4ead-b97d-254d5d8af02a.csv\n",
      "Saved: csv_files/time_data/negative/1eae1a5b-09b7-41ea-9f83-b7cd9f52bc33.csv\n",
      "Saved: csv_files/time_data/negative/5fdfdf9d-0f20-431d-87bb-23dc98dfb01f.csv\n",
      "Saved: csv_files/time_data/negative/d64134ef-4749-4f95-b881-8d16f3d770a6.csv\n",
      "Saved: csv_files/time_data/negative/f18e84f0-fd4b-4c26-b34b-9238378ded22.csv\n",
      "Saved: csv_files/time_data/negative/acbb828c-7f27-4098-a639-b6694d72a7e7.csv\n",
      "Saved: csv_files/time_data/negative/36fad16b-4e66-49b8-9a55-d587f301eea4.csv\n",
      "Saved: csv_files/time_data/negative/93eaa02e-32c5-416c-8431-eada2b974255.csv\n",
      "Saved: csv_files/time_data/negative/0a92e2b0-27ae-435d-9886-494b5c1e10f1.csv\n",
      "Saved: csv_files/time_data/negative/cc3f7939-2b0a-41ea-a726-74b2585ca104.csv\n",
      "Saved: csv_files/time_data/negative/e2846d92-1531-491f-ab52-f25f98ccb662.csv\n",
      "Saved: csv_files/time_data/negative/f2ff1106-26d8-4eee-9d9d-ba1321d7078a.csv\n",
      "Saved: csv_files/time_data/negative/bb49ced1-ff48-4900-bfcd-4b6c6f2e9ffa.csv\n",
      "Saved: csv_files/time_data/negative/3c734d6d-f3ad-45fa-9d7b-b7d71c885858.csv\n",
      "Saved: csv_files/time_data/negative/4c20be76-f64f-445d-9f5e-43318384e443.csv\n",
      "Saved: csv_files/time_data/negative/1624de72-40c9-4440-825d-e3c650abc25c.csv\n",
      "Saved: csv_files/time_data/negative/a85c3d2b-b6e7-4165-b4c7-3d8d9b32dc3f.csv\n",
      "Saved: csv_files/time_data/negative/393614bc-1883-4ed9-9d09-42543d5799c2.csv\n",
      "Saved: csv_files/time_data/negative/d33cf538-25a6-4294-bcfb-0b23cc169ff9.csv\n",
      "Saved: csv_files/time_data/negative/fe49f657-5553-48ad-a7a3-c3b2521324d5.csv\n",
      "Saved: csv_files/time_data/negative/481988dd-79a9-4d3f-8ba2-ed6fb73c8b58.csv\n",
      "Saved: csv_files/time_data/negative/30c85f2b-6e5c-43e5-a692-d2085f2e6839.csv\n",
      "Saved: csv_files/time_data/negative/1e369bb6-96db-4f64-883b-8db511a7d1a8.csv\n"
     ]
    }
   ],
   "source": [
    "get_formants_over_time(NEGATIVE_FOLDER_PATH, df_negative, TIME_DATA_PATH + \"negative/\")"
   ]
  },
  {
   "cell_type": "code",
   "execution_count": null,
   "id": "2017048f-7a77-4adb-8a0a-e5d2019aa758",
   "metadata": {},
   "outputs": [],
   "source": []
  }
 ],
 "metadata": {
  "kernelspec": {
   "display_name": "Python 3 (ipykernel)",
   "language": "python",
   "name": "python3"
  },
  "language_info": {
   "codemirror_mode": {
    "name": "ipython",
    "version": 3
   },
   "file_extension": ".py",
   "mimetype": "text/x-python",
   "name": "python",
   "nbconvert_exporter": "python",
   "pygments_lexer": "ipython3",
   "version": "3.12.4"
  }
 },
 "nbformat": 4,
 "nbformat_minor": 5
}
