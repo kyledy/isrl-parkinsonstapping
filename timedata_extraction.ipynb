{
 "cells": [
  {
   "cell_type": "code",
   "execution_count": 1,
   "id": "720fb7a3-ec34-40ab-879a-09a9865aaca9",
   "metadata": {},
   "outputs": [],
   "source": [
    "# Adapted from Parselmouth documentation at https://github.com/YannickJadoul/Parselmouth\n",
    "import parselmouth\n",
    "import praatio\n",
    "\n",
    "import pandas as pd\n",
    "import numpy as np\n",
    "import os\n",
    "import librosa\n",
    "import glob\n",
    "\n",
    "from extract_features_utils import clip_audio, get_jitter, get_shimmer, get_harmonic_to_noise_ratio, get_f0, get_formants\n",
    "from pydub import AudioSegment"
   ]
  },
  {
   "cell_type": "markdown",
   "id": "18962453-ab97-4412-864b-5e3187c59981",
   "metadata": {},
   "source": [
    "## File paths"
   ]
  },
  {
   "cell_type": "code",
   "execution_count": 2,
   "id": "0c8a643a-26a7-440a-8cbf-0db00ec10fbe",
   "metadata": {},
   "outputs": [],
   "source": [
    "POSITIVE_FOLDER_PATH = \"sample_audio_files/positive\"\n",
    "NEGATIVE_FOLDER_PATH = \"sample_audio_files/negative\"\n",
    "CSV_FILES_PATH = \"csv_files/\"\n",
    "TIME_DATA_PATH = CSV_FILES_PATH + \"time_data/\"\n",
    "\n",
    "os.makedirs(POSITIVE_FOLDER_PATH, exist_ok=True)\n",
    "os.makedirs(NEGATIVE_FOLDER_PATH, exist_ok=True)\n",
    "os.makedirs(CSV_FILES_PATH, exist_ok=True)"
   ]
  },
  {
   "cell_type": "markdown",
   "id": "79b5448d-1718-441f-992c-2c9b4a6832cd",
   "metadata": {},
   "source": [
    "## Helper functions"
   ]
  },
  {
   "cell_type": "code",
   "execution_count": 3,
   "id": "df297edc-60aa-4b00-b65d-ae570c9d15e4",
   "metadata": {},
   "outputs": [],
   "source": [
    "# Create mapping DataFrame between audio files and healthCodes\n",
    "def create_wav_dataframe(folder_path):\n",
    "    data = []\n",
    "    for filename in os.listdir(folder_path):\n",
    "        if filename.endswith(\".wav\"):\n",
    "            health_code = os.path.splitext(filename)[0]\n",
    "            full_path = os.path.join(folder_path, filename)\n",
    "            data.append({\"healthCode\": health_code, \"wav_path\": full_path})\n",
    "    \n",
    "    return pd.DataFrame(data)\n",
    "\n",
    "# Tweaked slightly to return dataframe (s) that contain temporal data\n",
    "# Extract formant values from folder containing .wav files\n",
    "def get_formants_over_time(folder_path, df, output_path):\n",
    "    wav_files = glob.glob(os.path.join(folder_path, \"*.wav\"))\n",
    "\n",
    "    for wav in wav_files:\n",
    "        try:\n",
    "            # Match .wav file to its current row in the DataFrame\n",
    "            row = df.loc[df[\"wav_path\"] == wav]\n",
    "            if row.empty:\n",
    "                print(f\"No metadata found for: {wav}\")\n",
    "                continue\n",
    "\n",
    "            # Get gender data from .wav file for data extraction\n",
    "            health_code = row[\"healthCode\"].values[0]\n",
    "            gender_str = row[\"gender\"].values[0].lower() if \"gender\" in row and pd.notna(row[\"gender\"].values[0]) else \"unknown\"\n",
    "            gender_flag = 1 if gender_str == \"female\" else 0\n",
    "            max_formant = 5500 if gender_flag == 1 else 5000\n",
    "            \n",
    "            # Load and trim audio\n",
    "            audio, sr = librosa.load(wav, sr=None)\n",
    "            trimmed_audio, idx = clip_audio(audio)\n",
    "            sound = parselmouth.Sound(trimmed_audio, sampling_frequency = sr)\n",
    "\n",
    "            # Get F0 over time \n",
    "            pitch = sound.to_pitch()\n",
    "            f0_times = [pitch.get_time_from_frame_number(i) for i in range(1, pitch.get_number_of_frames() + 1)]\n",
    "            f0_values = [pitch.get_value_in_frame(i) for i in range(1, pitch.get_number_of_frames() + 1)]\n",
    "            \n",
    "            # Get formants over time \n",
    "            # Adjust time steps below for more frames!\n",
    "            time_step = 0.01 \n",
    "            formants = sound.to_formant_burg(time_step, 5, max_formant, 0.025, 50)\n",
    "            f1, f2, f3 = [], [], []\n",
    "            for t in f0_times:\n",
    "                f1.append(formants.get_value_at_time(1, t))  # F1\n",
    "                f2.append(formants.get_value_at_time(2, t))  # F2\n",
    "                f3.append(formants.get_value_at_time(3, t))  # F3\n",
    "\n",
    "            time_df = pd.DataFrame({\n",
    "                    \"time\": f0_times,\n",
    "                    \"F0\": f0_values,\n",
    "                    \"F1\": f1,\n",
    "                    \"F2\": f2,\n",
    "                    \"F3\": f3\n",
    "            })\n",
    "\n",
    "            out_file = os.path.join(output_path, f\"{health_code}.csv\")\n",
    "            time_df.to_csv(out_file, index=False)\n",
    "            print(f\"Saved: {out_file}\")\n",
    "\n",
    "        except Exception as e:\n",
    "            print(f\"Error processing {wav}: {e}\")\n",
    "            continue"
   ]
  },
  {
   "cell_type": "code",
   "execution_count": 4,
   "id": "e12e9f37-6f02-4d6d-9aa7-b6aac03fd896",
   "metadata": {},
   "outputs": [],
   "source": [
    "positive_samples = create_wav_dataframe(POSITIVE_FOLDER_PATH)\n",
    "negative_samples = create_wav_dataframe(NEGATIVE_FOLDER_PATH)"
   ]
  },
  {
   "cell_type": "code",
   "execution_count": 5,
   "id": "dd3f4391-924d-40df-8f55-71e8dddfc9d2",
   "metadata": {},
   "outputs": [],
   "source": [
    "data = pd.read_csv(CSV_FILES_PATH + \"misc/data.csv\")\n",
    "data = data.drop_duplicates(subset=\"healthCode\", keep=\"first\")"
   ]
  },
  {
   "cell_type": "code",
   "execution_count": 6,
   "id": "98f54c30-7ff6-480c-bb57-ed963363c74c",
   "metadata": {},
   "outputs": [],
   "source": [
    "# Sanity check that all samples are in the dataset\n",
    "assert positive_samples[\"healthCode\"].isin(data[\"healthCode\"]).all(), \"Not all healthCodes are present in data\"\n",
    "assert negative_samples[\"healthCode\"].isin(data[\"healthCode\"]).all(), \"Not all healthCodes are present in data\""
   ]
  },
  {
   "cell_type": "code",
   "execution_count": 7,
   "id": "5258a037-921a-44b0-96ae-ea98afb506fc",
   "metadata": {},
   "outputs": [],
   "source": [
    "# Merge sample data with survey data to match .wav file paths\n",
    "df_positive = pd.merge(data, positive_samples, on=\"healthCode\", how=\"inner\")\n",
    "df_negative = pd.merge(data, negative_samples, on=\"healthCode\", how=\"inner\")"
   ]
  },
  {
   "cell_type": "code",
   "execution_count": 8,
   "id": "1cc2d3cc-0d66-41ad-b04c-edf6f3e71d07",
   "metadata": {},
   "outputs": [],
   "source": [
    "# get_formants_over_time(POSITIVE_FOLDER_PATH, df_positive, TIME_DATA_PATH + \"positive/\")\n",
    "# get_formants_over_time(NEGATIVE_FOLDER_PATH, df_negative, TIME_DATA_PATH + \"negative/\")"
   ]
  }
 ],
 "metadata": {
  "kernelspec": {
   "display_name": "Python 3 (ipykernel)",
   "language": "python",
   "name": "python3"
  },
  "language_info": {
   "codemirror_mode": {
    "name": "ipython",
    "version": 3
   },
   "file_extension": ".py",
   "mimetype": "text/x-python",
   "name": "python",
   "nbconvert_exporter": "python",
   "pygments_lexer": "ipython3",
   "version": "3.12.4"
  }
 },
 "nbformat": 4,
 "nbformat_minor": 5
}
