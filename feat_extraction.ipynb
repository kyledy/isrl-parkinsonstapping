{
 "cells": [
  {
   "cell_type": "code",
   "execution_count": 1,
   "id": "43c10152-7161-4b87-9092-766db7eb7445",
   "metadata": {},
   "outputs": [],
   "source": [
    "# Adapted from Parselmouth documentation at https://github.com/YannickJadoul/Parselmouth\n",
    "import parselmouth\n",
    "import praatio\n",
    "\n",
    "import pandas as pd\n",
    "import numpy as np\n",
    "import os\n",
    "import synapseclient\n",
    "import librosa\n",
    "import os\n",
    "\n",
    "from extract_features_utils import clip_audio, get_jitter, get_shimmer, get_harmonic_to_noise_ratio, get_f0, get_formants\n",
    "from pydub import AudioSegment"
   ]
  },
  {
   "cell_type": "code",
   "execution_count": 2,
   "id": "62ede2db-a27e-4552-903c-01ade9525517",
   "metadata": {},
   "outputs": [
    {
     "name": "stdout",
     "output_type": "stream",
     "text": [
      "Welcome, Yadong Liu!\n",
      "\n"
     ]
    }
   ],
   "source": [
    "# Authenticate Synapse login credentials\n",
    "# WARNING: This might raise an error if your .synapseConfig file isn't configured correctly.\n",
    "syn = synapseclient.Synapse()\n",
    "syn.login()"
   ]
  },
  {
   "cell_type": "markdown",
   "id": "5fa01b2f-6e8e-47be-9519-3b8d0a939601",
   "metadata": {},
   "source": [
    "## File paths"
   ]
  },
  {
   "cell_type": "code",
   "execution_count": 3,
   "id": "b6216b4c-03f9-4e8c-9306-7b045f014a46",
   "metadata": {},
   "outputs": [],
   "source": [
    "########################################################################\n",
    "#                                                                      #\n",
    "#  Change paths as needed -- will create folders if they don't exist   #\n",
    "#                                                                      #\n",
    "########################################################################\n",
    "\n",
    "POSITIVE_FOLDER_PATH = \"audio_files/positive\"\n",
    "NEGATIVE_FOLDER_PATH = \"audio_files/negative\"\n",
    "CSV_FILES_PATH = \"csv_files/\"\n",
    "\n",
    "os.makedirs(POSITIVE_FOLDER_PATH, exist_ok=True)\n",
    "os.makedirs(NEGATIVE_FOLDER_PATH, exist_ok=True)\n",
    "os.makedirs(CSV_FILES_PATH, exist_ok=True)"
   ]
  },
  {
   "cell_type": "markdown",
   "id": "8f40b251-986e-490c-8eed-470506ef54d5",
   "metadata": {},
   "source": [
    "## Helper functions"
   ]
  },
  {
   "cell_type": "code",
   "execution_count": 4,
   "id": "acae0ea2-327c-4e5b-884d-8f38a4bdb87b",
   "metadata": {},
   "outputs": [],
   "source": [
    "# Helper to skip files shorter than 0.1s\n",
    "def is_valid_audio(file_path):\n",
    "    try:\n",
    "        audio = AudioSegment.from_file(file_path, format=\"m4a\")\n",
    "        return len(audio) > 100\n",
    "    except:\n",
    "        return False\n",
    "\n",
    "# Returns file path to converted .wav file\n",
    "def convert_to_wav(input_file, output_dir):\n",
    "    if not is_valid_audio(input_file):\n",
    "        print(f\"Skipping invalid or empty file: {input_file}\")\n",
    "        return None\n",
    "\n",
    "    base_name = os.path.splitext(os.path.basename(input_file))[0]\n",
    "    output_path = os.path.join(output_dir, f\"{base_name}.wav\")\n",
    "    try:\n",
    "        audio = AudioSegment.from_file(input_file, format=\"m4a\")\n",
    "    except Exception:\n",
    "        try:\n",
    "            audio = AudioSegment.from_file(input_file, format=\"mp4\")\n",
    "        except Exception as e:\n",
    "            print(f\"Conversion failed for {input_file}: {e}\")\n",
    "            return None\n",
    "\n",
    "    try:\n",
    "        audio.export(output_path, format=\"wav\")\n",
    "        return output_path\n",
    "    except Exception as e:\n",
    "        print(f\"Export failed for {input_file}: {e}\")\n",
    "        return None\n",
    "\n",
    "def convert_folder_to_wav(input_dir):\n",
    "    for filename in os.listdir(input_dir):\n",
    "        if filename.endswith(\".m4a\"):\n",
    "            input_path = os.path.join(input_dir, filename)\n",
    "            health_code = os.path.splitext(filename)[0]\n",
    "            wav_path = os.path.join(input_dir, f\"{health_code}.wav\")\n",
    "            if os.path.exists(wav_path):\n",
    "                continue\n",
    "            result = convert_to_wav(input_path, input_dir)\n",
    "\n",
    "# Adapted from https://github.com/Sage-Bionetworks/mPower-sdata/blob/master/examples/mPower-bootstrap.py\n",
    "# Downloads ALL matching audio files, customize batch size accordingly.\n",
    "def extract_audio_files(output_dir, diagnosis=False, batch_size=100):\n",
    "    os.makedirs(output_dir, exist_ok=True)\n",
    "\n",
    "    # Load and filter survey data\n",
    "    survey_data = pd.read_csv(CSV_FILES_PATH + \"survey_data.csv\")\n",
    "    survey_data = survey_data[survey_data[\"professional-diagnosis\"] == diagnosis]\n",
    "    all_healthcodes = survey_data[\"healthCode\"].tolist()\n",
    "\n",
    "    all_mappings = []\n",
    "\n",
    "    for i in range(0, len(all_healthcodes), batch_size):\n",
    "        batch = all_healthcodes[i:i + batch_size]\n",
    "        healthcodes_str = \"','\".join(batch)\n",
    "        \n",
    "        query = f\"SELECT * FROM syn5511444 WHERE healthCode IN ('{healthcodes_str}')\"\n",
    "        subset_query = syn.tableQuery(query)\n",
    "        subset_df = subset_query.asDataFrame()\n",
    "        subset_df[\"audio_audio.m4a\"] = subset_df[\"audio_audio.m4a\"].astype(str)\n",
    "        file_map = syn.downloadTableColumns(subset_query, \"audio_audio.m4a\")\n",
    "\n",
    "        for file_handle_id, m4a_path in file_map.items():\n",
    "            wav_path = convert_to_wav(m4a_path, output_dir)\n",
    "            matched_row = subset_df[subset_df[\"audio_audio.m4a\"] == file_handle_id]\n",
    "            if not matched_row.empty:\n",
    "                healthcode = matched_row.iloc[0][\"healthCode\"]\n",
    "                all_mappings.append({\"healthCode\": healthcode, \"wav_path\": wav_path})\n",
    "            else:\n",
    "                print(f\"File handle ID {file_handle_id} not found in subset_df\")\n",
    "\n",
    "    return pd.DataFrame(all_mappings)"
   ]
  },
  {
   "cell_type": "code",
   "execution_count": 5,
   "id": "cd31e8ac-eccf-435d-9d16-12137ec4079a",
   "metadata": {},
   "outputs": [],
   "source": [
    "# Extract all features from .wav files in folder\n",
    "def extract_formants_from_folder(folder_path, df, batch_size=100, max_files=None):\n",
    "    wav_files = glob.glob(os.path.join(folder_path, \"*.wav\"))\n",
    "    if max_files:\n",
    "        wav_files = wav_files[:max_files]\n",
    "\n",
    "    all_features = []\n",
    "\n",
    "    for i in range(0, len(wav_files), batch_size):\n",
    "        batch = wav_files[i:i + batch_size]\n",
    "        batch_features = []\n",
    "\n",
    "        for wav in batch:\n",
    "            try:\n",
    "                # Match .wav file to its current row in the DataFrame\n",
    "                row = df.loc[df[\"wav_path\"] == wav]\n",
    "                if row.empty:\n",
    "                    print(f\"No metadata found for: {wav}\")\n",
    "                    continue\n",
    "\n",
    "                # Get gender data from .wav file for data extraction\n",
    "                health_code = row[\"healthCode\"].values[0]\n",
    "                gender_str = row[\"gender\"].values[0].lower() if \"gender\" in row and pd.notna(row[\"gender\"].values[0]) else \"unknown\"\n",
    "                gender_flag = 1 if gender_str == \"female\" else 0\n",
    "\n",
    "                audio, sr = librosa.load(wav, sr=None)\n",
    "                onset, offset = 0.25, 0.75\n",
    "                meanf0 = np.nan\n",
    "\n",
    "                while np.isnan(meanf0):\n",
    "                    trimmed_audio, _ = clip_audio(audio, onset=onset, offset=offset)\n",
    "                    trimmed_sound = parselmouth.Sound(trimmed_audio, sampling_frequency=sr)\n",
    "\n",
    "                    meanf0, stdevf0, minf0, maxf0 = get_f0(trimmed_sound, 75, 500)\n",
    "                    f1, f2, f3 = get_formants(trimmed_sound, 75, 500, gender_flag)\n",
    "                    localJitter, localabsoluteJitter, rapJitter, ppq5Jitter, ddpJitter = get_jitter(trimmed_sound, minF0=75, maxF0=500)\n",
    "                    localShimmer, shimmer_absolute, shimmer_rap, shimmer_rap5, shimmer_ddp = get_shimmer(trimmed_sound, minF0=75, maxF0=500)\n",
    "                    hnr = get_harmonic_to_noise_ratio(trimmed_sound, minF0=75)\n",
    "\n",
    "                    onset += 0.01\n",
    "                    offset += 0.01\n",
    "\n",
    "                batch_features.append({\n",
    "                    \"wav_path\": wav,\n",
    "                    \"F0 (mean)\": meanf0,\n",
    "                    \"F0 (std)\": stdevf0,\n",
    "                    \"F0 (min)\": minf0,\n",
    "                    \"F0 (max)\": maxf0,\n",
    "                    \"F1 (mean)\": np.nanmean(f1),\n",
    "                    \"F1 (std)\": np.nanstd(f1),\n",
    "                    \"F2 (mean)\": np.nanmean(f2),\n",
    "                    \"F2 (std)\": np.nanstd(f2),\n",
    "                    \"F3 (mean)\": np.nanmean(f3),\n",
    "                    \"F3 (std)\": np.nanstd(f3),\n",
    "                    \"Jitter (local)\": localJitter,\n",
    "                    \"Jitter (absolute)\": localabsoluteJitter,\n",
    "                    \"Jitter (rap)\": rapJitter,\n",
    "                    \"Jitter (ppq5)\": ppq5Jitter,\n",
    "                    \"Jitter (ddp)\": ddpJitter,\n",
    "                    \"Shimmer (local)\": localShimmer,\n",
    "                    \"Shimmer (absolute)\": shimmer_absolute,\n",
    "                    \"Shimmer (rap)\": shimmer_rap,\n",
    "                    \"Shimmer (ppq5)\": shimmer_rap5,\n",
    "                    \"Shimmer (ddp)\": shimmer_ddp,\n",
    "                    \"Harmonic to Noise Ratio\": hnr\n",
    "                })\n",
    "\n",
    "            except Exception as e:\n",
    "                print(f\"Error processing {wav}: {e}\")\n",
    "                continue\n",
    "\n",
    "        all_features.extend(batch_features)\n",
    "        print(f\"Processed batch {i // batch_size + 1} of {len(wav_files) // batch_size + 1}\")\n",
    "\n",
    "    return pd.DataFrame(all_features)"
   ]
  },
  {
   "cell_type": "markdown",
   "id": "3dcdf59c-20bb-48ef-9e92-40caae9e3301",
   "metadata": {},
   "source": [
    "# Feature extraction"
   ]
  },
  {
   "cell_type": "code",
   "execution_count": 6,
   "id": "3069672c-70e2-402d-b47d-af30cbc2616c",
   "metadata": {},
   "outputs": [],
   "source": [
    "data = pd.read_csv(CSV_FILES_PATH + \"misc/data.csv\")\n",
    "data = data.drop_duplicates(subset=\"healthCode\", keep=\"first\")"
   ]
  },
  {
   "cell_type": "code",
   "execution_count": 7,
   "id": "cd00b5d8-3db8-4048-a012-7356915e4148",
   "metadata": {},
   "outputs": [],
   "source": [
    "# Uncomment this only if you want to re-extract the audio files\n",
    "# positive_samples = extract_audio_files(POSITIVE_FOLDER_PATH, True)\n",
    "# negative_samples = extract_audio_files(NEGATIVE_FOLDER_PATH, False)\n",
    "\n",
    "# Filter out rows where wav_path is not found\n",
    "# positive_samples = positive_samples[positive_samples[\"wav_path\"].notna() & (positive_samples[\"wav_path\"] != \"\")]\n",
    "# negative_samples = negative_samples[negative_samples[\"wav_path\"].notna() & (negative_samples[\"wav_path\"] != \"\")]\n",
    "\n",
    "# Save mapping between audio files and healthcodes \n",
    "# positive_samples.to_csv(CSV_FILES_PATH + \"healthcode_to_wav_positive.csv\", index=False)\n",
    "# negative_samples.to_csv(CSV_FILES_PATH + \"healthcode_to_wav_negative.csv\", index=False)"
   ]
  },
  {
   "cell_type": "code",
   "execution_count": 8,
   "id": "09f099d1-4865-4634-aced-4a6cc48c5ec9",
   "metadata": {},
   "outputs": [
    {
     "name": "stdout",
     "output_type": "stream",
     "text": [
      "Positive samples: (39376, 2)\n",
      "Negative samples: (23425, 2)\n"
     ]
    }
   ],
   "source": [
    "# Sanity check positive and negative data\n",
    "positive_samples = pd.read_csv(CSV_FILES_PATH + \"misc/healthcode_to_wav_positive.csv\")\n",
    "negative_samples = pd.read_csv(CSV_FILES_PATH + \"misc/healthcode_to_wav_negative.csv\")\n",
    "\n",
    "print(f\"Positive samples: {positive_samples.shape}\")\n",
    "print(f\"Negative samples: {negative_samples.shape}\")"
   ]
  },
  {
   "cell_type": "code",
   "execution_count": 9,
   "id": "936a5f4d-35f0-40e0-bfcd-f4dfd8eeace8",
   "metadata": {},
   "outputs": [],
   "source": [
    "# Merge the audio file data and survey data\n",
    "df_positive = pd.merge(positive_samples, data, on=\"healthCode\", how=\"left\")\n",
    "df_negative = pd.merge(negative_samples, data, on=\"healthCode\", how=\"left\")\n",
    "\n",
    "# Assertions to make sure the merge is correct\n",
    "assert len(positive_samples) == len(df_positive), \"Mismatch in positive sample count!\"\n",
    "assert len(negative_samples) == len(df_negative), \"Mismatch in negative sample count!\""
   ]
  },
  {
   "cell_type": "code",
   "execution_count": 10,
   "id": "a914e758-577f-4d0c-aa18-9bc7258bfc94",
   "metadata": {
    "scrolled": true
   },
   "outputs": [],
   "source": [
    "# Uncomment to re-extract feature data\n",
    "# positive_formants = extract_formants_from_folder(POSITIVE_FOLDER_PATH, df_positive)\n",
    "\n",
    "# Extract positive values into .csv file\n",
    "# positive_formants.to_csv(CSV_FILES_PATH + \"misc/positive_features_only.csv\", index=False)\n",
    "\n",
    "# Clean up rows and save to .csv file\n",
    "# df_positive = pd.merge(positive_formants, df_positive, on=\"wav_path\", how=\"left\")\n",
    "\n",
    "# Drop wav_path and move healthCode to the leftmost column\n",
    "# df_positive = df_positive.drop(columns=[\"wav_path\"])\n",
    "# cols = ['healthCode'] + [col for col in df_positive.columns if col != 'healthCode']\n",
    "# df_positive = df_positive[cols]\n",
    "\n",
    "# Save to .csv file\n",
    "# df_positive.to_csv(CSV_FILES_PATH + \"positive.csv\", index=False)"
   ]
  },
  {
   "cell_type": "code",
   "execution_count": 11,
   "id": "b63ecb8d-7c3c-4dbf-8d9b-8d7befb2c766",
   "metadata": {},
   "outputs": [
    {
     "name": "stderr",
     "output_type": "stream",
     "text": [
      "[WARNING] /var/folders/lw/63lbkk3s63qf24jmd15c3r8h0000gn/T/ipykernel_16643/2514848343.py:1: DtypeWarning: Columns (45) have mixed types. Specify dtype option on import or set low_memory=False.\n",
      "  positive_features = pd.read_csv(CSV_FILES_PATH + \"positive.csv\")\n",
      "\n"
     ]
    },
    {
     "name": "stdout",
     "output_type": "stream",
     "text": [
      "Positive features: (39342, 51)\n"
     ]
    }
   ],
   "source": [
    "positive_features = pd.read_csv(CSV_FILES_PATH + \"positive.csv\")\n",
    "print(f\"Positive features: {positive_features.shape}\")"
   ]
  },
  {
   "cell_type": "code",
   "execution_count": 12,
   "id": "53e040ab-2648-42ae-b534-39ea4316cfec",
   "metadata": {},
   "outputs": [],
   "source": [
    "# Uncomment to re-extract feature data\n",
    "# negative_formants = extract_formants_from_folder(NEGATIVE_FOLDER_PATH, df_negative)\n",
    "\n",
    "# Extract negative values into .csv file\n",
    "# negative_formants.to_csv(CSV_FILES_PATH + \"misc/negative_features_only.csv\", index=False)\n",
    "\n",
    "# Clean up rows and save to .csv file\n",
    "# df_negative = pd.merge(negative_formants, df_negative, on=\"wav_path\", how=\"left\")\n",
    "\n",
    "# Drop wav_path and move healthCode to the leftmost column\n",
    "# df_negative = df_negative.drop(columns=[\"wav_path\"])\n",
    "# cols = ['healthCode'] + [col for col in df_negative.columns if col != 'healthCode']\n",
    "# df_negative = df_negative[cols]\n",
    "\n",
    "# Save to .csv file\n",
    "# df_negative.to_csv(CSV_FILES_PATH + \"negative.csv\", index=False)"
   ]
  },
  {
   "cell_type": "code",
   "execution_count": 13,
   "id": "1e421284-5632-4c5c-9882-9d71da12e938",
   "metadata": {},
   "outputs": [
    {
     "name": "stdout",
     "output_type": "stream",
     "text": [
      "Negative features: (23393, 51)\n"
     ]
    }
   ],
   "source": [
    "negative_features = pd.read_csv(CSV_FILES_PATH + \"negative.csv\")\n",
    "print(f\"Negative features: {negative_features.shape}\")"
   ]
  },
  {
   "cell_type": "code",
   "execution_count": 14,
   "id": "d11d7736-d1db-4e0f-ae78-3404b8918b18",
   "metadata": {},
   "outputs": [
    {
     "name": "stdout",
     "output_type": "stream",
     "text": [
      "Unique positive healthcodes: healthCode                   970\n",
      "F0 (mean)                  39342\n",
      "F0 (std)                   39333\n",
      "F0 (min)                   39342\n",
      "F0 (max)                   39342\n",
      "F1 (mean)                  39341\n",
      "F1 (std)                   39337\n",
      "F2 (mean)                  39341\n",
      "F2 (std)                   39337\n",
      "F3 (mean)                  39341\n",
      "F3 (std)                   39337\n",
      "Jitter (local)             39332\n",
      "Jitter (absolute)          39332\n",
      "Jitter (rap)               39323\n",
      "Jitter (ppq5)              39291\n",
      "Jitter (ddp)               39323\n",
      "Shimmer (local)            39320\n",
      "Shimmer (absolute)         39320\n",
      "Shimmer (rap)              39299\n",
      "Shimmer (ppq5)             39227\n",
      "Shimmer (ddp)              39299\n",
      "Harmonic to Noise Ratio    39342\n",
      "medTimepoint                   4\n",
      "age                           66\n",
      "are-caretaker                  2\n",
      "deep-brain-stimulation         2\n",
      "diagnosis-year                30\n",
      "education                      8\n",
      "employment                     7\n",
      "gender                         2\n",
      "health-history               406\n",
      "healthcare-provider            6\n",
      "home-usage                     2\n",
      "last-smoked                   54\n",
      "maritalStatus                  6\n",
      "medical-usage                  2\n",
      "medical-usage-yesterday        3\n",
      "medication-start-year         33\n",
      "onset-year                    33\n",
      "packs-per-day                  4\n",
      "past-participation             2\n",
      "phone-usage                    3\n",
      "professional-diagnosis         1\n",
      "race                          22\n",
      "smartphone                     5\n",
      "smoked                         2\n",
      "surgery                        2\n",
      "video-usage                    2\n",
      "years-smoking                 37\n",
      "appVersion                     3\n",
      "phoneInfo                     11\n",
      "dtype: int64\n"
     ]
    }
   ],
   "source": [
    "print(f\"Unique positive healthcodes: {positive_features.nunique()}\")"
   ]
  },
  {
   "cell_type": "code",
   "execution_count": 15,
   "id": "9dfddf54-4b5c-400a-b01c-0c8a2edd6d83",
   "metadata": {},
   "outputs": [
    {
     "name": "stdout",
     "output_type": "stream",
     "text": [
      "Unique negative healthcodes: healthCode                  3982\n",
      "F0 (mean)                  23368\n",
      "F0 (std)                   23358\n",
      "F0 (min)                   23368\n",
      "F0 (max)                   23368\n",
      "F1 (mean)                  23368\n",
      "F1 (std)                   23364\n",
      "F2 (mean)                  23368\n",
      "F2 (std)                   23364\n",
      "F3 (mean)                  23368\n",
      "F3 (std)                   23364\n",
      "Jitter (local)             23365\n",
      "Jitter (absolute)          23365\n",
      "Jitter (rap)               23352\n",
      "Jitter (ppq5)              23332\n",
      "Jitter (ddp)               23352\n",
      "Shimmer (local)            23346\n",
      "Shimmer (absolute)         23346\n",
      "Shimmer (rap)              23334\n",
      "Shimmer (ppq5)             23295\n",
      "Shimmer (ddp)              23334\n",
      "Harmonic to Noise Ratio    23368\n",
      "medTimepoint                   4\n",
      "age                           67\n",
      "are-caretaker                  2\n",
      "deep-brain-stimulation         2\n",
      "diagnosis-year                21\n",
      "education                      8\n",
      "employment                     7\n",
      "gender                         3\n",
      "health-history               563\n",
      "healthcare-provider            6\n",
      "home-usage                     2\n",
      "last-smoked                   52\n",
      "maritalStatus                  6\n",
      "medical-usage                  2\n",
      "medical-usage-yesterday        3\n",
      "medication-start-year         23\n",
      "onset-year                    41\n",
      "packs-per-day                  5\n",
      "past-participation             2\n",
      "phone-usage                    3\n",
      "professional-diagnosis         1\n",
      "race                          72\n",
      "smartphone                     5\n",
      "smoked                         2\n",
      "surgery                        2\n",
      "video-usage                    2\n",
      "years-smoking                 40\n",
      "appVersion                     3\n",
      "phoneInfo                     10\n",
      "dtype: int64\n"
     ]
    }
   ],
   "source": [
    "print(f\"Unique negative healthcodes: {negative_features.nunique()}\")"
   ]
  }
 ],
 "metadata": {
  "kernelspec": {
   "display_name": "Python 3 (ipykernel)",
   "language": "python",
   "name": "python3"
  },
  "language_info": {
   "codemirror_mode": {
    "name": "ipython",
    "version": 3
   },
   "file_extension": ".py",
   "mimetype": "text/x-python",
   "name": "python",
   "nbconvert_exporter": "python",
   "pygments_lexer": "ipython3",
   "version": "3.12.4"
  }
 },
 "nbformat": 4,
 "nbformat_minor": 5
}
